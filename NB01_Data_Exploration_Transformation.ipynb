{
 "cells": [
  {
   "cell_type": "markdown",
   "metadata": {},
   "source": [
    "# Data Exploration and Transformation Notebook for Vivino Wine Project"
   ]
  },
  {
   "cell_type": "code",
   "execution_count": null,
   "metadata": {},
   "outputs": [],
   "source": [
    "# Install modules \n",
    "!pip install pandas\n",
    "!pip install numpy\n",
    "!pip install scipy"
   ]
  },
  {
   "cell_type": "code",
   "execution_count": null,
   "metadata": {},
   "outputs": [],
   "source": [
    "# Import modules\n",
    "import pandas as pd\n",
    "import numpy as np\n",
    "import scipy.stats as stats\n",
    "from datetime import datetime"
   ]
  },
  {
   "cell_type": "markdown",
   "metadata": {},
   "source": [
    "## Read data file"
   ]
  },
  {
   "cell_type": "code",
   "execution_count": null,
   "metadata": {},
   "outputs": [],
   "source": [
    "# Read data from csv file\n",
    "df = pd.read_csv('vivino_data_00_RAW.csv')\n",
    "df.info()"
   ]
  },
  {
   "cell_type": "markdown",
   "metadata": {},
   "source": [
    "## 1.1 Drop duplicated Rows"
   ]
  },
  {
   "cell_type": "code",
   "execution_count": null,
   "metadata": {},
   "outputs": [],
   "source": [
    "# (1.1) Drop duplicated rows\n",
    "print ('DROP DUPLICATES -- BEFORE ==', len(df))\n",
    "df.drop_duplicates(inplace=True)\n",
    "print ('DROP DUPLICATES -- AFTER ==', len(df))"
   ]
  },
  {
   "cell_type": "markdown",
   "metadata": {},
   "source": [
    "## 1.2 Drop rows with wine_type != Red or White wine"
   ]
  },
  {
   "cell_type": "code",
   "execution_count": null,
   "metadata": {},
   "outputs": [],
   "source": [
    "# (1.2) Drop rows with wine_type != Red or White wine\n",
    "print ('DROP ROWS WITH wine_type != Red wine or White wine -- BEFORE ==', len(df))\n",
    "df = df[(df.wine_type == 'Red wine') | (df.wine_type == 'White wine')]\n",
    "print ('DROP ROWS WITH wine_type != Red wine or White wine -- AFTER ==', len(df))"
   ]
  },
  {
   "cell_type": "markdown",
   "metadata": {},
   "source": [
    "## 1.3 Add new wine_age feature + Drop rows with wines older than 25 years"
   ]
  },
  {
   "cell_type": "code",
   "execution_count": null,
   "metadata": {},
   "outputs": [],
   "source": [
    "# (1.3) Drop rows with wines older than 25 years \n",
    "print ('NEW FIELD ADDED: wine_age')\n",
    "print ('DROP ROWS WITH wine_age > 25 -- BEFORE ==', len(df))\n",
    "df['wine_age'] = datetime.today().year - df.year\n",
    "df = df[(df.wine_age <= 25)]\n",
    "print ('DROP ROWS WITH wine_age > 25 -- AFTER ==', len(df))"
   ]
  },
  {
   "cell_type": "markdown",
   "metadata": {},
   "source": [
    "## 1.4 Drop rows with price < 0 or >= 120"
   ]
  },
  {
   "cell_type": "code",
   "execution_count": null,
   "metadata": {},
   "outputs": [],
   "source": [
    "# (1.4) Drop rows with price < 0 or >= S$120\n",
    "print ('DROP ROWS WITH price < 0 or price >= 120 -- BEFORE ==', len(df))\n",
    "df = df[(df.price < 120) & (df.price >= 10)]\n",
    "print ('DROP ROWS WITH price < 0 or price >= 120 -- AFTER ==', len(df))"
   ]
  },
  {
   "cell_type": "markdown",
   "metadata": {},
   "source": [
    "## 2.1 For rows with NA / empty value in grape -- replace value with \"Unspecified\""
   ]
  },
  {
   "cell_type": "code",
   "execution_count": null,
   "metadata": {},
   "outputs": [],
   "source": [
    "# (2.1) For rows with NA / empty value in grape -- replace value with \"Unspecified\"\n",
    "print ('FILL NA/EMPTY grape CELLS WITH VALUE = UNSPECIFIED')\n",
    "df.grape.fillna('Unspecified', inplace=True)"
   ]
  },
  {
   "cell_type": "markdown",
   "metadata": {},
   "source": [
    "## 2.2 For rows with \"-1\" value in taste characteristic -- replace value with category mean (grape) for that characteristic\n",
    "\n",
    "Example: If the dry_sweet taste note of a merlot grape wine is -1, we will replace it with the mean of dry_sweet values of all merlot grape wines (mean is calculated only from those merlot grapes with dry_sweet value >= 0)"
   ]
  },
  {
   "cell_type": "code",
   "execution_count": null,
   "metadata": {},
   "outputs": [],
   "source": [
    "# (2.2) For rows with \"-1\" value in taste characteristic -- replace value with category mean (grape)\n",
    "print ('FILL TASTE_PROFILE CELLS OF VALUE < 0 WITH CATEGORY MEAN\\n')\n",
    "columns = [ 'light_bold', 'smooth_tannic', 'dry_sweet', 'soft_acidic' ]\n",
    "\n",
    "for c in columns:\n",
    "    df1 = df[(df[c] >= 0)]\n",
    "    df2 = df[(df[c] < 0)]\n",
    "\n",
    "    # Find the mean of the taste characteristic (e.g. light_bold, dry_sweet) for each type grape\n",
    "    print ('LINES AFFECTED FOR', c, ' =', len(df2))\n",
    "    g = df1.groupby(['grape'])\n",
    "    means = g[c].mean()\n",
    "\n",
    "    # When we encounter a \"-1\" taste characteristic value, we look up the means table, to find the mean value \n",
    "    # we stored earlier... we replace the \"-1\" value with this means value\n",
    "    df2[c] = df2.grape.map(means)\n",
    "    \n",
    "    # If the means value isn't found in the lookup table, we replace the \"-1\" value with the characteristic's \n",
    "    # column mean value (less accurate)\n",
    "    df2[c].fillna(df1[c].mean(), inplace=True)\n",
    "\n",
    "    df.update(df2, join='left')"
   ]
  },
  {
   "cell_type": "markdown",
   "metadata": {},
   "source": [
    "## 2.3 Write cleaned data to csv file"
   ]
  },
  {
   "cell_type": "code",
   "execution_count": null,
   "metadata": {},
   "outputs": [],
   "source": [
    "# Write cleaned data to csv file\n",
    "# The code below is for writing files to your computer. If writing files to IBM Cloud Storage,\n",
    "# use the code fragment provided in the IBM Cloud for reading the data asset from IBM Cloud Storage.\n",
    "print ('WRITE CLEANED DATAFRAME TO FILE')\n",
    "df.to_csv('vivino_data_00-1_CLEANED.csv', index=False)"
   ]
  },
  {
   "cell_type": "markdown",
   "metadata": {},
   "source": [
    "## 3.1 Add geographic region field"
   ]
  },
  {
   "cell_type": "code",
   "execution_count": null,
   "metadata": {},
   "outputs": [],
   "source": [
    "# (3.1) Add geographic region field\n",
    "print ('NEW FIELD ADDED: geo_region')\n",
    "geo_region = {'W Europe': ['France', 'Germany', 'United Kingdom'],\n",
    "            'S Europe': ['Greece', 'Italy', 'Portugal', 'Spain'],\n",
    "            'C/E Europe': ['Austria', 'Bulgaria', 'Hungary', 'Moldova', 'North Macedonia', 'Romania', 'Slovenia'],\n",
    "            'N America': ['Canada', 'United States'],\n",
    "            'S America': ['Argentina', 'Brazil', 'Chile', 'Uruguay'],\n",
    "            'Oceania': ['Australia', 'New Zealand'],\n",
    "            'Africa': ['South Africa'],\n",
    "            'C/W Asia': ['Georgia', 'Israel', 'Lebanon'],\n",
    "            'E Asia': ['China']}\n",
    "lookup_table = {}\n",
    "for k, v in geo_region.items():\n",
    "    for c in v:\n",
    "        lookup_table[c] = k\n",
    "df['geo_region'] = df['country'].map(lookup_table)"
   ]
  },
  {
   "cell_type": "markdown",
   "metadata": {},
   "source": [
    "## 3.2 Write transformed data to csv file"
   ]
  },
  {
   "cell_type": "code",
   "execution_count": null,
   "metadata": {},
   "outputs": [],
   "source": [
    "# (3.2) Write transformed data to csv file\n",
    "print ('WRITE TRANSFORMED DATAFRAME TO FILE')\n",
    "df.to_csv('vivino_data_00-2_TRANSFORMED.csv', index=False)"
   ]
  },
  {
   "cell_type": "markdown",
   "metadata": {},
   "source": [
    "## 3.3 Create stratified random sample"
   ]
  },
  {
   "cell_type": "code",
   "execution_count": null,
   "metadata": {},
   "outputs": [],
   "source": [
    "# (3.3) Create stratified random sample\n",
    "print ('CREATE STRATIFIED RANDOM SAMPLE -- GROUPED BY COUNTRY')\n",
    "sample_size = 10000\n",
    "df = df.groupby('country', group_keys=False).apply(lambda x: x.sample(int(np.rint(sample_size*len(x)/len(df))))).sample(frac=1).reset_index(drop=True)\n",
    "print ('Required Sample Size =', sample_size)\n",
    "print ('Actual Sample Size =', len(df))"
   ]
  },
  {
   "cell_type": "markdown",
   "metadata": {},
   "source": [
    "## 3.4 Write stratified random sample to csv file"
   ]
  },
  {
   "cell_type": "code",
   "execution_count": null,
   "metadata": {},
   "outputs": [],
   "source": [
    "# (3.4) Write stratified random sample to csv file\n",
    "print ('WRITE STRATIFIED RANDOM SAMPLE DATAFRAME TO FILE (ALL FIELDS INTACT)')\n",
    "df.to_csv('vivino_data_00-3_ALL_FIELDS.csv', index=False)"
   ]
  },
  {
   "cell_type": "markdown",
   "metadata": {},
   "source": [
    "## 4.1 Drop some columns to get under 1 MB (IBM Cloud sample limit)\n"
   ]
  },
  {
   "cell_type": "code",
   "execution_count": null,
   "metadata": {},
   "outputs": [],
   "source": [
    "# (4.1) Drop some columns to get under 1 MB (IBM Cloud sample limit)\n",
    "df.drop(['winery', 'wine_name', 'region', 'taste_mentions', 'taste_notes', 'wine_url'], axis=1, inplace=True)\n",
    "print ('DROPPED FIELDS: winery, wine_name, region, taste_mentions, taste_notes, wine_url')"
   ]
  },
  {
   "cell_type": "markdown",
   "metadata": {},
   "source": [
    "## 4.2 Remove the word \"wine\" from wine_type to reduce clutter"
   ]
  },
  {
   "cell_type": "code",
   "execution_count": null,
   "metadata": {},
   "outputs": [],
   "source": [
    "# (4.2) Remove the word \"wine\" from wine_type to reduce clutter\n",
    "df['wine_type'] = df['wine_type'].str.replace('[ ](w|W)ine', '', regex=True)"
   ]
  },
  {
   "cell_type": "markdown",
   "metadata": {},
   "source": [
    "## 4.3 Write stratified random sample to csv file"
   ]
  },
  {
   "cell_type": "code",
   "execution_count": null,
   "metadata": {},
   "outputs": [],
   "source": [
    "# 4.3 Write stratified random sample to csv file\n",
    "print ('WRITE STRATIFIED RANDOM SAMPLE DATAFRAME TO FILE')\n",
    "df.to_csv('vivino_data_00-4_FINAL.csv', index=False)\n",
    "df.info()"
   ]
  },
  {
   "cell_type": "markdown",
   "metadata": {},
   "source": [
    "# End of Notebook"
   ]
  }
 ],
 "metadata": {
  "kernelspec": {
   "display_name": "Python 3",
   "language": "python",
   "name": "python3"
  },
  "language_info": {
   "codemirror_mode": {
    "name": "ipython",
    "version": 3
   },
   "file_extension": ".py",
   "mimetype": "text/x-python",
   "name": "python",
   "nbconvert_exporter": "python",
   "pygments_lexer": "ipython3",
   "version": "3.8.10"
  }
 },
 "nbformat": 4,
 "nbformat_minor": 4
}
